{
 "cells": [
  {
   "cell_type": "code",
   "execution_count": 1,
   "metadata": {
    "id": "VUYQ5L6ajhw1"
   },
   "outputs": [],
   "source": [
    "import numpy as np\n",
    "import pandas as pd"
   ]
  },
  {
   "cell_type": "markdown",
   "metadata": {
    "id": "jS9jWE-rjhw_"
   },
   "source": [
    "### EDA with pandas.\n",
    "\n",
    "В этом задании предлагается сделать разведочный анализ данных в датафрейме твитов. \n",
    "\n",
    " Таблица состоит из 12 столбцов:\n",
    "\n",
    "\n",
    "- `id`: уникальный номер сообщения в системе twitter;\n",
    "- `tdate`: дата публикации сообщения (твита);\n",
    "- `tmane`: имя пользователя, опубликовавшего сообщение;\n",
    "- `ttext`:  текст сообщения (твита);\n",
    "- `ttype`: тональность твита (положительная (1) или отрицательная (-1));\n",
    "- `trep`: количество реплаев к данному сообщению. В настоящий момент API твиттера не отдает эту информацию;\n",
    "- `tfav`: число сколько раз данное сообщение было добавлено в избранное другими пользователями;\n",
    "- `tstcount`: число всех сообщений пользователя в сети twitter;\n",
    "- `tfol`: количество фолловеров пользователя (тех людей, которые читают пользователя);\n",
    "- `tfrien`: количество друзей пользователя (те люди, которых читает пользователь);\n",
    "- `listcount`: количество листов-подписок в которые добавлен твиттер-пользователь.\n"
   ]
  },
  {
   "cell_type": "code",
   "execution_count": 2,
   "metadata": {
    "colab": {
     "base_uri": "https://localhost:8080/",
     "height": 1000
    },
    "executionInfo": {
     "elapsed": 1562,
     "status": "ok",
     "timestamp": 1632935800968,
     "user": {
      "displayName": "Алсу Нурутдинова",
      "photoUrl": "https://lh3.googleusercontent.com/a/default-user=s64",
      "userId": "04111228134967302103"
     },
     "user_tz": -180
    },
    "id": "es57T8NXjhw_",
    "outputId": "106aea23-eda3-4409-c292-2838420eca1a"
   },
   "outputs": [
    {
     "data": {
      "text/html": [
       "<div>\n",
       "<style scoped>\n",
       "    .dataframe tbody tr th:only-of-type {\n",
       "        vertical-align: middle;\n",
       "    }\n",
       "\n",
       "    .dataframe tbody tr th {\n",
       "        vertical-align: top;\n",
       "    }\n",
       "\n",
       "    .dataframe thead th {\n",
       "        text-align: right;\n",
       "    }\n",
       "</style>\n",
       "<table border=\"1\" class=\"dataframe\">\n",
       "  <thead>\n",
       "    <tr style=\"text-align: right;\">\n",
       "      <th></th>\n",
       "      <th>id</th>\n",
       "      <th>tdate</th>\n",
       "      <th>tmane</th>\n",
       "      <th>ttext</th>\n",
       "      <th>ttype</th>\n",
       "      <th>trep</th>\n",
       "      <th>tfav</th>\n",
       "      <th>tstcount</th>\n",
       "      <th>tfol</th>\n",
       "      <th>tfrien</th>\n",
       "      <th>listcount</th>\n",
       "    </tr>\n",
       "  </thead>\n",
       "  <tbody>\n",
       "    <tr>\n",
       "      <th>0</th>\n",
       "      <td>410745723928731648</td>\n",
       "      <td>1386764386</td>\n",
       "      <td>chavdaridi</td>\n",
       "      <td>RT @dianochka6464ru: Россия отмочила! Смотреть...</td>\n",
       "      <td>1</td>\n",
       "      <td>0</td>\n",
       "      <td>1</td>\n",
       "      <td>0</td>\n",
       "      <td>285</td>\n",
       "      <td>11</td>\n",
       "      <td>11</td>\n",
       "    </tr>\n",
       "    <tr>\n",
       "      <th>1</th>\n",
       "      <td>409580147185315840</td>\n",
       "      <td>1386486491</td>\n",
       "      <td>pifelanybal</td>\n",
       "      <td>Google сменил алгоритм чексуммы в загребании P...</td>\n",
       "      <td>-1</td>\n",
       "      <td>0</td>\n",
       "      <td>0</td>\n",
       "      <td>0</td>\n",
       "      <td>130</td>\n",
       "      <td>100</td>\n",
       "      <td>86</td>\n",
       "    </tr>\n",
       "    <tr>\n",
       "      <th>2</th>\n",
       "      <td>419794699738570752</td>\n",
       "      <td>1388921830</td>\n",
       "      <td>RomanenkoJulya</td>\n",
       "      <td>мне надо домой, @RomaRudenko1 не отпускает(</td>\n",
       "      <td>-1</td>\n",
       "      <td>0</td>\n",
       "      <td>0</td>\n",
       "      <td>0</td>\n",
       "      <td>730</td>\n",
       "      <td>28</td>\n",
       "      <td>18</td>\n",
       "    </tr>\n",
       "    <tr>\n",
       "      <th>3</th>\n",
       "      <td>410625694087909376</td>\n",
       "      <td>1386735769</td>\n",
       "      <td>VizivayuDyavola</td>\n",
       "      <td>RT @boobear1236969: Линта,я слева:D http://t.c...</td>\n",
       "      <td>1</td>\n",
       "      <td>0</td>\n",
       "      <td>3</td>\n",
       "      <td>0</td>\n",
       "      <td>1959</td>\n",
       "      <td>405</td>\n",
       "      <td>537</td>\n",
       "    </tr>\n",
       "    <tr>\n",
       "      <th>4</th>\n",
       "      <td>410849586635628545</td>\n",
       "      <td>1386789149</td>\n",
       "      <td>Den_Byhovsky</td>\n",
       "      <td>@juliasvirid17 я имел ввиду, что для меня спос...</td>\n",
       "      <td>1</td>\n",
       "      <td>0</td>\n",
       "      <td>0</td>\n",
       "      <td>0</td>\n",
       "      <td>3248</td>\n",
       "      <td>61</td>\n",
       "      <td>48</td>\n",
       "    </tr>\n",
       "  </tbody>\n",
       "</table>\n",
       "</div>"
      ],
      "text/plain": [
       "                   id       tdate            tmane  \\\n",
       "0  410745723928731648  1386764386       chavdaridi   \n",
       "1  409580147185315840  1386486491      pifelanybal   \n",
       "2  419794699738570752  1388921830   RomanenkoJulya   \n",
       "3  410625694087909376  1386735769  VizivayuDyavola   \n",
       "4  410849586635628545  1386789149     Den_Byhovsky   \n",
       "\n",
       "                                               ttext  ttype  trep  tfav  \\\n",
       "0  RT @dianochka6464ru: Россия отмочила! Смотреть...      1     0     1   \n",
       "1  Google сменил алгоритм чексуммы в загребании P...     -1     0     0   \n",
       "2        мне надо домой, @RomaRudenko1 не отпускает(     -1     0     0   \n",
       "3  RT @boobear1236969: Линта,я слева:D http://t.c...      1     0     3   \n",
       "4  @juliasvirid17 я имел ввиду, что для меня спос...      1     0     0   \n",
       "\n",
       "   tstcount  tfol  tfrien  listcount  \n",
       "0         0   285      11         11  \n",
       "1         0   130     100         86  \n",
       "2         0   730      28         18  \n",
       "3         0  1959     405        537  \n",
       "4         0  3248      61         48  "
      ]
     },
     "execution_count": 2,
     "metadata": {},
     "output_type": "execute_result"
    }
   ],
   "source": [
    "df = pd.read_csv(\"./tweets.csv\")\n",
    "df.head(5)"
   ]
  },
  {
   "cell_type": "code",
   "execution_count": 3,
   "metadata": {},
   "outputs": [
    {
     "data": {
      "text/plain": [
       "(226834, 11)"
      ]
     },
     "execution_count": 3,
     "metadata": {},
     "output_type": "execute_result"
    }
   ],
   "source": [
    "df.shape"
   ]
  },
  {
   "cell_type": "markdown",
   "metadata": {
    "id": "ZlKn2CxAjhw_"
   },
   "source": [
    "__Задание 1__. Создайте новый признак - колонку `'diffr'`, содержащую разницу числа друзей и числа фолловеров у пользователя."
   ]
  },
  {
   "cell_type": "code",
   "execution_count": 4,
   "metadata": {
    "id": "Jf4ML5v9jhxA"
   },
   "outputs": [],
   "source": [
    "df['diffr'] = df['tfrien'] - df['tfol']"
   ]
  },
  {
   "cell_type": "markdown",
   "metadata": {
    "id": "QACliI_ijhxA"
   },
   "source": [
    "__Задание 2__. Создайте датафрейм, в котором остались только строки с чётными номерами, и пронумеруйте их начиная с 0."
   ]
  },
  {
   "cell_type": "code",
   "execution_count": 5,
   "metadata": {
    "id": "mL6ejW4cjhxA"
   },
   "outputs": [
    {
     "data": {
      "text/html": [
       "<div>\n",
       "<style scoped>\n",
       "    .dataframe tbody tr th:only-of-type {\n",
       "        vertical-align: middle;\n",
       "    }\n",
       "\n",
       "    .dataframe tbody tr th {\n",
       "        vertical-align: top;\n",
       "    }\n",
       "\n",
       "    .dataframe thead th {\n",
       "        text-align: right;\n",
       "    }\n",
       "</style>\n",
       "<table border=\"1\" class=\"dataframe\">\n",
       "  <thead>\n",
       "    <tr style=\"text-align: right;\">\n",
       "      <th></th>\n",
       "      <th>index</th>\n",
       "      <th>id</th>\n",
       "      <th>tdate</th>\n",
       "      <th>tmane</th>\n",
       "      <th>ttext</th>\n",
       "      <th>ttype</th>\n",
       "      <th>trep</th>\n",
       "      <th>tfav</th>\n",
       "      <th>tstcount</th>\n",
       "      <th>tfol</th>\n",
       "      <th>tfrien</th>\n",
       "      <th>listcount</th>\n",
       "      <th>diffr</th>\n",
       "    </tr>\n",
       "  </thead>\n",
       "  <tbody>\n",
       "    <tr>\n",
       "      <th>0</th>\n",
       "      <td>0</td>\n",
       "      <td>410745723928731648</td>\n",
       "      <td>1386764386</td>\n",
       "      <td>chavdaridi</td>\n",
       "      <td>RT @dianochka6464ru: Россия отмочила! Смотреть...</td>\n",
       "      <td>1</td>\n",
       "      <td>0</td>\n",
       "      <td>1</td>\n",
       "      <td>0</td>\n",
       "      <td>285</td>\n",
       "      <td>11</td>\n",
       "      <td>11</td>\n",
       "      <td>-274</td>\n",
       "    </tr>\n",
       "    <tr>\n",
       "      <th>1</th>\n",
       "      <td>2</td>\n",
       "      <td>419794699738570752</td>\n",
       "      <td>1388921830</td>\n",
       "      <td>RomanenkoJulya</td>\n",
       "      <td>мне надо домой, @RomaRudenko1 не отпускает(</td>\n",
       "      <td>-1</td>\n",
       "      <td>0</td>\n",
       "      <td>0</td>\n",
       "      <td>0</td>\n",
       "      <td>730</td>\n",
       "      <td>28</td>\n",
       "      <td>18</td>\n",
       "      <td>-702</td>\n",
       "    </tr>\n",
       "    <tr>\n",
       "      <th>2</th>\n",
       "      <td>4</td>\n",
       "      <td>410849586635628545</td>\n",
       "      <td>1386789149</td>\n",
       "      <td>Den_Byhovsky</td>\n",
       "      <td>@juliasvirid17 я имел ввиду, что для меня спос...</td>\n",
       "      <td>1</td>\n",
       "      <td>0</td>\n",
       "      <td>0</td>\n",
       "      <td>0</td>\n",
       "      <td>3248</td>\n",
       "      <td>61</td>\n",
       "      <td>48</td>\n",
       "      <td>-3187</td>\n",
       "    </tr>\n",
       "    <tr>\n",
       "      <th>3</th>\n",
       "      <td>6</td>\n",
       "      <td>415545552320077824</td>\n",
       "      <td>1387908754</td>\n",
       "      <td>VitaVita52</td>\n",
       "      <td>Было неожиданно,все попадали на концерте,никог...</td>\n",
       "      <td>-1</td>\n",
       "      <td>0</td>\n",
       "      <td>0</td>\n",
       "      <td>0</td>\n",
       "      <td>461</td>\n",
       "      <td>16</td>\n",
       "      <td>19</td>\n",
       "      <td>-445</td>\n",
       "    </tr>\n",
       "    <tr>\n",
       "      <th>4</th>\n",
       "      <td>8</td>\n",
       "      <td>413821842823348224</td>\n",
       "      <td>1387497790</td>\n",
       "      <td>wyhuzezyg</td>\n",
       "      <td>RT @yvysogoga: мда. центос это стабильность......</td>\n",
       "      <td>-1</td>\n",
       "      <td>0</td>\n",
       "      <td>3</td>\n",
       "      <td>0</td>\n",
       "      <td>641</td>\n",
       "      <td>385</td>\n",
       "      <td>386</td>\n",
       "      <td>-256</td>\n",
       "    </tr>\n",
       "  </tbody>\n",
       "</table>\n",
       "</div>"
      ],
      "text/plain": [
       "   index                  id       tdate           tmane  \\\n",
       "0      0  410745723928731648  1386764386      chavdaridi   \n",
       "1      2  419794699738570752  1388921830  RomanenkoJulya   \n",
       "2      4  410849586635628545  1386789149    Den_Byhovsky   \n",
       "3      6  415545552320077824  1387908754      VitaVita52   \n",
       "4      8  413821842823348224  1387497790       wyhuzezyg   \n",
       "\n",
       "                                               ttext  ttype  trep  tfav  \\\n",
       "0  RT @dianochka6464ru: Россия отмочила! Смотреть...      1     0     1   \n",
       "1        мне надо домой, @RomaRudenko1 не отпускает(     -1     0     0   \n",
       "2  @juliasvirid17 я имел ввиду, что для меня спос...      1     0     0   \n",
       "3  Было неожиданно,все попадали на концерте,никог...     -1     0     0   \n",
       "4  RT @yvysogoga: мда. центос это стабильность......     -1     0     3   \n",
       "\n",
       "   tstcount  tfol  tfrien  listcount  diffr  \n",
       "0         0   285      11         11   -274  \n",
       "1         0   730      28         18   -702  \n",
       "2         0  3248      61         48  -3187  \n",
       "3         0   461      16         19   -445  \n",
       "4         0   641     385        386   -256  "
      ]
     },
     "execution_count": 5,
     "metadata": {},
     "output_type": "execute_result"
    }
   ],
   "source": [
    "df1 = df[0:11:2].reset_index()\n",
    "df1.head()"
   ]
  },
  {
   "cell_type": "markdown",
   "metadata": {
    "id": "EOg_pRgxjhxA"
   },
   "source": [
    "__Задание 3__. Создайте датафрейм, в котором оставить только твиты положительной тональности и колонки [ Твит, тональность]"
   ]
  },
  {
   "cell_type": "code",
   "execution_count": 6,
   "metadata": {
    "id": "y0EIPV8JjhxA"
   },
   "outputs": [
    {
     "data": {
      "text/html": [
       "<div>\n",
       "<style scoped>\n",
       "    .dataframe tbody tr th:only-of-type {\n",
       "        vertical-align: middle;\n",
       "    }\n",
       "\n",
       "    .dataframe tbody tr th {\n",
       "        vertical-align: top;\n",
       "    }\n",
       "\n",
       "    .dataframe thead th {\n",
       "        text-align: right;\n",
       "    }\n",
       "</style>\n",
       "<table border=\"1\" class=\"dataframe\">\n",
       "  <thead>\n",
       "    <tr style=\"text-align: right;\">\n",
       "      <th></th>\n",
       "      <th>ttext</th>\n",
       "      <th>ttype</th>\n",
       "    </tr>\n",
       "  </thead>\n",
       "  <tbody>\n",
       "    <tr>\n",
       "      <th>0</th>\n",
       "      <td>RT @dianochka6464ru: Россия отмочила! Смотреть...</td>\n",
       "      <td>1</td>\n",
       "    </tr>\n",
       "    <tr>\n",
       "      <th>3</th>\n",
       "      <td>RT @boobear1236969: Линта,я слева:D http://t.c...</td>\n",
       "      <td>1</td>\n",
       "    </tr>\n",
       "    <tr>\n",
       "      <th>4</th>\n",
       "      <td>@juliasvirid17 я имел ввиду, что для меня спос...</td>\n",
       "      <td>1</td>\n",
       "    </tr>\n",
       "    <tr>\n",
       "      <th>15</th>\n",
       "      <td>как всегда круто посидели на химии:) http://t....</td>\n",
       "      <td>1</td>\n",
       "    </tr>\n",
       "    <tr>\n",
       "      <th>17</th>\n",
       "      <td>Сегодняшнее творение ,больше половины уже нет ...</td>\n",
       "      <td>1</td>\n",
       "    </tr>\n",
       "  </tbody>\n",
       "</table>\n",
       "</div>"
      ],
      "text/plain": [
       "                                                ttext  ttype\n",
       "0   RT @dianochka6464ru: Россия отмочила! Смотреть...      1\n",
       "3   RT @boobear1236969: Линта,я слева:D http://t.c...      1\n",
       "4   @juliasvirid17 я имел ввиду, что для меня спос...      1\n",
       "15  как всегда круто посидели на химии:) http://t....      1\n",
       "17  Сегодняшнее творение ,больше половины уже нет ...      1"
      ]
     },
     "execution_count": 6,
     "metadata": {},
     "output_type": "execute_result"
    }
   ],
   "source": [
    "new_df = df[df['ttype'] == 1][['ttext', 'ttype']]\n",
    "new_df.head()"
   ]
  },
  {
   "cell_type": "markdown",
   "metadata": {
    "id": "ziclg3NdjhxA"
   },
   "source": [
    "__Задание 4__. Найдите число уникальных пользователей (пользователей с различными `tmane`).\n",
    "\n",
    "__Хинт__: воспользуйтесь `np.unique`."
   ]
  },
  {
   "cell_type": "code",
   "execution_count": 7,
   "metadata": {
    "id": "aDb_dzq5jhxB"
   },
   "outputs": [
    {
     "data": {
      "text/plain": [
       "139658"
      ]
     },
     "execution_count": 7,
     "metadata": {},
     "output_type": "execute_result"
    }
   ],
   "source": [
    "len(df['tmane'].unique())"
   ]
  },
  {
   "cell_type": "markdown",
   "metadata": {
    "id": "WRpYyW5fjhxB"
   },
   "source": [
    "__Задание 5__. Посчитайте основные статистики по числу подписчиков (фолловеров) при помощи метода `.describe()`. Постройте гистограмму значений признака.\n",
    "Сделайте выводы в отдельной ячейке. "
   ]
  },
  {
   "cell_type": "code",
   "execution_count": 8,
   "metadata": {
    "id": "i2LyGDE5jhxB"
   },
   "outputs": [
    {
     "data": {
      "text/plain": [
       "count    2.268340e+05\n",
       "mean     7.584972e+03\n",
       "std      2.039972e+04\n",
       "min      0.000000e+00\n",
       "25%      4.730000e+02\n",
       "50%      2.026000e+03\n",
       "75%      7.562000e+03\n",
       "max      1.138639e+06\n",
       "Name: tfol, dtype: float64"
      ]
     },
     "execution_count": 8,
     "metadata": {},
     "output_type": "execute_result"
    }
   ],
   "source": [
    "df['tfol'].describe()"
   ]
  },
  {
   "cell_type": "code",
   "execution_count": 9,
   "metadata": {},
   "outputs": [
    {
     "data": {
      "text/plain": [
       "<AxesSubplot:>"
      ]
     },
     "execution_count": 9,
     "metadata": {},
     "output_type": "execute_result"
    },
    {
     "data": {
      "image/png": "[encoded data removed]",
      "text/plain": [
       "<Figure size 432x288 with 1 Axes>"
      ]
     },
     "metadata": {
      "needs_background": "light"
     },
     "output_type": "display_data"
    }
   ],
   "source": [
    "df['tfol'].describe().plot.bar()"
   ]
  },
  {
   "cell_type": "markdown",
   "metadata": {
    "id": "FDlyJ1PhjhxB"
   },
   "source": [
    "__Задание 6__. Посчитайте число ретвитов в датасете (твитов, начинающихся с \"RT @\")."
   ]
  },
  {
   "cell_type": "code",
   "execution_count": 10,
   "metadata": {
    "id": "IalQeNNijhxB"
   },
   "outputs": [
    {
     "data": {
      "text/plain": [
       "36462"
      ]
     },
     "execution_count": 10,
     "metadata": {},
     "output_type": "execute_result"
    }
   ],
   "source": [
    "df[df['ttext'].str.startswith(\"RT @\")].shape[0]"
   ]
  },
  {
   "cell_type": "markdown",
   "metadata": {
    "id": "jCAjc3gujhxB"
   },
   "source": [
    "__Задание 7__. Перенесите ретвиты в другой датасет"
   ]
  },
  {
   "cell_type": "code",
   "execution_count": 11,
   "metadata": {
    "id": "V8ka08wwjhxC"
   },
   "outputs": [],
   "source": [
    "retwitts = df[df['ttext'].str.startswith(\"RT @\")]"
   ]
  },
  {
   "cell_type": "markdown",
   "metadata": {
    "id": "HQ67S7kljhxC"
   },
   "source": [
    "__Задание 8__. Постройте столбчатую диаграмму (или гистограмму) распределения числа твитов по месяцам. В какой месяц какого года было опубликовано больше всего твитов?\n",
    "\n",
    "__Хинт__: Время в колонке `tdate` — это Unix time, и оно отображает то, сколько секунд прошло с 00:00:00 1 января 1970 года. Для конвертации этого времени в удобный формат воспользуйтесь библиотекой `datetime`."
   ]
  },
  {
   "cell_type": "code",
   "execution_count": 12,
   "metadata": {
    "id": "R6wQ_FcjjhxC"
   },
   "outputs": [],
   "source": [
    "df['tdate'] = pd.to_datetime(df['tdate'],unit='s')\n",
    "df['tdate'] = df['tdate'].apply(lambda x: int(str(x).split(\"-\")[1]))"
   ]
  },
  {
   "cell_type": "code",
   "execution_count": 13,
   "metadata": {},
   "outputs": [
    {
     "data": {
      "text/html": [
       "<div>\n",
       "<style scoped>\n",
       "    .dataframe tbody tr th:only-of-type {\n",
       "        vertical-align: middle;\n",
       "    }\n",
       "\n",
       "    .dataframe tbody tr th {\n",
       "        vertical-align: top;\n",
       "    }\n",
       "\n",
       "    .dataframe thead th {\n",
       "        text-align: right;\n",
       "    }\n",
       "</style>\n",
       "<table border=\"1\" class=\"dataframe\">\n",
       "  <thead>\n",
       "    <tr style=\"text-align: right;\">\n",
       "      <th></th>\n",
       "      <th>id</th>\n",
       "      <th>tdate</th>\n",
       "      <th>tmane</th>\n",
       "      <th>ttext</th>\n",
       "      <th>ttype</th>\n",
       "      <th>trep</th>\n",
       "      <th>tfav</th>\n",
       "      <th>tstcount</th>\n",
       "      <th>tfol</th>\n",
       "      <th>tfrien</th>\n",
       "      <th>listcount</th>\n",
       "      <th>diffr</th>\n",
       "    </tr>\n",
       "  </thead>\n",
       "  <tbody>\n",
       "    <tr>\n",
       "      <th>0</th>\n",
       "      <td>410745723928731648</td>\n",
       "      <td>12</td>\n",
       "      <td>chavdaridi</td>\n",
       "      <td>RT @dianochka6464ru: Россия отмочила! Смотреть...</td>\n",
       "      <td>1</td>\n",
       "      <td>0</td>\n",
       "      <td>1</td>\n",
       "      <td>0</td>\n",
       "      <td>285</td>\n",
       "      <td>11</td>\n",
       "      <td>11</td>\n",
       "      <td>-274</td>\n",
       "    </tr>\n",
       "    <tr>\n",
       "      <th>1</th>\n",
       "      <td>409580147185315840</td>\n",
       "      <td>12</td>\n",
       "      <td>pifelanybal</td>\n",
       "      <td>Google сменил алгоритм чексуммы в загребании P...</td>\n",
       "      <td>-1</td>\n",
       "      <td>0</td>\n",
       "      <td>0</td>\n",
       "      <td>0</td>\n",
       "      <td>130</td>\n",
       "      <td>100</td>\n",
       "      <td>86</td>\n",
       "      <td>-30</td>\n",
       "    </tr>\n",
       "    <tr>\n",
       "      <th>2</th>\n",
       "      <td>419794699738570752</td>\n",
       "      <td>1</td>\n",
       "      <td>RomanenkoJulya</td>\n",
       "      <td>мне надо домой, @RomaRudenko1 не отпускает(</td>\n",
       "      <td>-1</td>\n",
       "      <td>0</td>\n",
       "      <td>0</td>\n",
       "      <td>0</td>\n",
       "      <td>730</td>\n",
       "      <td>28</td>\n",
       "      <td>18</td>\n",
       "      <td>-702</td>\n",
       "    </tr>\n",
       "    <tr>\n",
       "      <th>3</th>\n",
       "      <td>410625694087909376</td>\n",
       "      <td>12</td>\n",
       "      <td>VizivayuDyavola</td>\n",
       "      <td>RT @boobear1236969: Линта,я слева:D http://t.c...</td>\n",
       "      <td>1</td>\n",
       "      <td>0</td>\n",
       "      <td>3</td>\n",
       "      <td>0</td>\n",
       "      <td>1959</td>\n",
       "      <td>405</td>\n",
       "      <td>537</td>\n",
       "      <td>-1554</td>\n",
       "    </tr>\n",
       "    <tr>\n",
       "      <th>4</th>\n",
       "      <td>410849586635628545</td>\n",
       "      <td>12</td>\n",
       "      <td>Den_Byhovsky</td>\n",
       "      <td>@juliasvirid17 я имел ввиду, что для меня спос...</td>\n",
       "      <td>1</td>\n",
       "      <td>0</td>\n",
       "      <td>0</td>\n",
       "      <td>0</td>\n",
       "      <td>3248</td>\n",
       "      <td>61</td>\n",
       "      <td>48</td>\n",
       "      <td>-3187</td>\n",
       "    </tr>\n",
       "  </tbody>\n",
       "</table>\n",
       "</div>"
      ],
      "text/plain": [
       "                   id  tdate            tmane  \\\n",
       "0  410745723928731648     12       chavdaridi   \n",
       "1  409580147185315840     12      pifelanybal   \n",
       "2  419794699738570752      1   RomanenkoJulya   \n",
       "3  410625694087909376     12  VizivayuDyavola   \n",
       "4  410849586635628545     12     Den_Byhovsky   \n",
       "\n",
       "                                               ttext  ttype  trep  tfav  \\\n",
       "0  RT @dianochka6464ru: Россия отмочила! Смотреть...      1     0     1   \n",
       "1  Google сменил алгоритм чексуммы в загребании P...     -1     0     0   \n",
       "2        мне надо домой, @RomaRudenko1 не отпускает(     -1     0     0   \n",
       "3  RT @boobear1236969: Линта,я слева:D http://t.c...      1     0     3   \n",
       "4  @juliasvirid17 я имел ввиду, что для меня спос...      1     0     0   \n",
       "\n",
       "   tstcount  tfol  tfrien  listcount  diffr  \n",
       "0         0   285      11         11   -274  \n",
       "1         0   130     100         86    -30  \n",
       "2         0   730      28         18   -702  \n",
       "3         0  1959     405        537  -1554  \n",
       "4         0  3248      61         48  -3187  "
      ]
     },
     "execution_count": 13,
     "metadata": {},
     "output_type": "execute_result"
    }
   ],
   "source": [
    "df.head(5)"
   ]
  },
  {
   "cell_type": "code",
   "execution_count": 14,
   "metadata": {},
   "outputs": [],
   "source": [
    "d = df.groupby(\"tdate\").describe()"
   ]
  },
  {
   "cell_type": "code",
   "execution_count": 15,
   "metadata": {},
   "outputs": [
    {
     "data": {
      "text/plain": [
       "tdate\n",
       "1      39205.0\n",
       "12    187629.0\n",
       "Name: count, dtype: float64"
      ]
     },
     "execution_count": 15,
     "metadata": {},
     "output_type": "execute_result"
    }
   ],
   "source": [
    "d['id']['count']"
   ]
  },
  {
   "cell_type": "code",
   "execution_count": 16,
   "metadata": {},
   "outputs": [
    {
     "data": {
      "text/plain": [
       "<AxesSubplot:xlabel='tdate'>"
      ]
     },
     "execution_count": 16,
     "metadata": {},
     "output_type": "execute_result"
    },
    {
     "data": {
      "image/png": "[encoded data removed]",
      "text/plain": [
       "<Figure size 432x288 with 1 Axes>"
      ]
     },
     "metadata": {
      "needs_background": "light"
     },
     "output_type": "display_data"
    }
   ],
   "source": [
    "d['id']['count'].plot.bar()"
   ]
  }
 ],
 "metadata": {
  "colab": {
   "collapsed_sections": [],
   "name": "\"Задание_1_pandas.ipynb\"\"",
   "provenance": [
    {
     "file_id": "1QUrrX3Qzy6PdM6oiZ-60pFwmJCBGcihe",
     "timestamp": 1632936034285
    },
    {
     "file_id": "1jhVOrMR6wnZBseVdFo55BkM1OtLTciJZ",
     "timestamp": 1632924066740
    }
   ]
  },
  "kernelspec": {
   "display_name": "Python 3",
   "language": "python",
   "name": "python3"
  },
  "language_info": {
   "codemirror_mode": {
    "name": "ipython",
    "version": 3
   },
   "file_extension": ".py",
   "mimetype": "text/x-python",
   "name": "python",
   "nbconvert_exporter": "python",
   "pygments_lexer": "ipython3",
   "version": "3.8.10"
  }
 },
 "nbformat": 4,
 "nbformat_minor": 1
}
